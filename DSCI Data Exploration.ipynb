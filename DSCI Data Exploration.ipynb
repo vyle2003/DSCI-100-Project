{
 "cells": [
  {
   "cell_type": "code",
   "execution_count": null,
   "id": "09cdce78-74c6-45f5-a3b3-8757360e7de3",
   "metadata": {},
   "outputs": [],
   "source": []
  },
  {
   "cell_type": "markdown",
   "id": "cf4c5ce5-3fb7-4804-8903-f0aba5eb66a7",
   "metadata": {},
   "source": [
    "# Project Proposal # "
   ]
  },
  {
   "cell_type": "markdown",
   "id": "6b8143e6-8403-4f91-a724-88a6049932be",
   "metadata": {},
   "source": [
    "## Introduction ##"
   ]
  },
  {
   "cell_type": "markdown",
   "id": "49d9939b-c3a4-4086-8577-5c29e5ed0d94",
   "metadata": {},
   "source": [
    "Heart diseases refers to types of heart conditions in which their common symptoms vary from having heart attacks, arrhythmia (abnormal heart beats), to heart failure. Though these symptoms may exist for some people, many cannot be diagnosed unless experienced one of the conditions. Our question we would like to address is predicting the presence of heart disease by working with four variables as the predictors. The four variables are age, maximum heart rate, resting blood pressure, and cholesterol (These predictors are subjected to change as we move towards the end of the course as we learn how to find which are the best predictors). The accuracy of our model could be helpful as being the preliminary test to see if a patient needs further diagnosis before clinicians coming up with suitable treatment models for that patient.  For our project, we chose to focus on a dataset from UCI Machine Learning that contains data pulled from Hungary, Cleveland, Switzerland, and Longbeach that we found on Kaggle. https://www.kaggle.com/datasets/johnsmith88/heart-disease-dataset. \n",
    ".\n"
   ]
  },
  {
   "cell_type": "markdown",
   "id": "68d83244-5f31-4ffa-b042-ab1a4c689405",
   "metadata": {},
   "source": [
    "The dataset includes 14 columns:\n",
    "- age\n",
    "- sex\n",
    "- chest pain type (4 values; 0 = typical angina, 1 = atypical angina, 2 = non-anginal pain, 3 = asymptomatic)\n",
    "- trestbps: resting blood pressure\n",
    "- chol: serum cholestoral in mg/dl\n",
    "- fbs: fasting blood sugar > 120 mg/dl\n",
    "- restecg: resting electrocardiographic results (values 0,1,2)\n",
    "- thalach: maximum heart rate achieved\n",
    "- exang: exercise induced angina\n",
    "- oldpeak: ST depression induced by exercise relative to rest\n",
    "- slope: the slope of the peak exercise ST segment\n",
    "- ca: number of major vessels (0-3) colored by flourosopy\n",
    "- thal: 0 = normal; 1 = fixed defect; 2 = reversable defect\n",
    "- target: presence of heart disease, 0 = False, 1 = True\n",
    "\n",
    "\n",
    "The four variables we chose are resting blood pressure, age, maximum heart rate, and cholesterol. We chose Blood pressure because having high blood pressure is one of the biggest risks of heart disease, as stated on the CDC website.  Blood pressure increases the workload of the heart, as it is the pressure of blood pushing along arteries, and having a higher blood pressure makes the heart muscle become stiffer(Grey, 2021). We chose cholesterol because high cholesterol, according to the CDC, builds up and blocks the vessels, which can induce a heart attack, especially the \"bad\" type of cholesterol.  We chose maximum heart rate as a predictor because having a high heart rate is associated with a higher risk of mortality and heart-associated disease(Guillaume, et al.). As stated by Guillaume, et al., “...the risk associated with accelerated heart rate is not only statistically significant but also clinically relevant and that it should be taken into account in the evaluation of the patients.” We chose age because according to the CDC, with an increase in age, there is an increase in the risk of developing heart disease because there is a higher build of fatty deposits in arteries(narrower flow of blood in arteries) and also higher blood pressure\n",
    "\n",
    "\n",
    " We chose 4 specific predictors because of the online research(external resources) and readings we did prior, pinpointing the main contributors to heart disease, and we found out that these factors have an immense impact on increasing the risk of heart disease, and are the most important to consider. \n",
    "\n"
   ]
  },
  {
   "cell_type": "code",
   "execution_count": null,
   "id": "b22b94c9-450b-4c29-86d0-b755ea1063ad",
   "metadata": {},
   "outputs": [],
   "source": [
    "### Run this cell before continuing. \n",
    "library(tidyverse)\n",
    "library(repr)\n",
    "library(tidymodels)\n",
    "library(GGally)\n",
    "library(broom)\n",
    "options(repr.matrix.max.rows = 6)"
   ]
  },
  {
   "cell_type": "code",
   "execution_count": null,
   "id": "58dc8b64-4ef9-4e91-ac9c-80f808d266d4",
   "metadata": {},
   "outputs": [],
   "source": [
    "#reading data\n",
    "heart_data <- read_csv(file = \"heart.csv\")\n",
    "\n",
    "heart_data"
   ]
  },
  {
   "cell_type": "markdown",
   "id": "ff3f0f3d-eb28-4bcb-b99d-4997adaa6a8e",
   "metadata": {},
   "source": [
    "## Summarizing the Training Data ##"
   ]
  },
  {
   "cell_type": "markdown",
   "id": "438e3e99-a0ff-4c5c-9e88-3161630a2d4f",
   "metadata": {},
   "source": [
    "- In the beginning, we use the <code>map_df(is.na)</code> argument to see if there are any n/a variables inside our dataset."
   ]
  },
  {
   "cell_type": "code",
   "execution_count": null,
   "id": "d47735da-109a-4a5b-8a94-4e334987e5c9",
   "metadata": {},
   "outputs": [],
   "source": [
    "#Check to see if there is any n/a value in the dataset\n",
    "na_check <- heart_data |>\n",
    "     map_df(is.na) |>\n",
    "     map_df(sum)\n",
    "\n",
    "na_check"
   ]
  },
  {
   "cell_type": "markdown",
   "id": "4cbc751f-646a-4e0e-a8ce-8bfd90bf8bfe",
   "metadata": {},
   "source": [
    "- We are going to select the <code>\"age\"</code>, <code>\"sex\"</code>, <code>\"chol\"</code>, <code>\"trestbps\"</code>, <code>\"thalach\"</code>, <code>\"target\"</code> columns that we are going to use.\n",
    "- We want to rename those columns and give them an appropriate name.\n",
    "- Since the dataset gives us numerical variables, so we would change them into categorical variables in which \"1\" represents \"male\" and \"0\" means \"female\".\n",
    "- And also, we will change the determination of disease present from numerical value into categorical value in which \"0\" represents \"false\",  and \"1\" means \"true\"."
   ]
  },
  {
   "cell_type": "code",
   "execution_count": null,
   "id": "9c6b9258-9403-41de-b9a0-21e2ac57ec50",
   "metadata": {},
   "outputs": [],
   "source": [
    "heart_data  <- heart_data |>\n",
    "    mutate(sex = as_factor(sex), target = as_factor(target)) |>\n",
    "    select(age, sex, chol, trestbps, thalach, target)\n",
    "\n",
    "colnames(heart_data) <- c(\"age\", \"sex\", \"cholesterol\", \"rest_bp\", \"max_heart_rate\", \"disease_present\")\n",
    "\n",
    "# changes 1 to male and 0 to female\n",
    "levels(heart_data$sex) <- c(\"female\", \"male\")\n",
    "# changes disease_present to true/false (0 = false, 1 = true)\n",
    "levels(heart_data$disease_present) <- c(FALSE, TRUE)\n",
    "\n",
    "heart_data"
   ]
  },
  {
   "cell_type": "markdown",
   "id": "f968cff5-f7a3-472a-be47-920b4ba2dfb7",
   "metadata": {},
   "source": [
    "- Based on the data we use in the wrangling step, we have **1025** observations.\n",
    "- We will use a random split of **0.75**, which will make 75% of the data split out into our training set, and the rest of 25% of the data will move to the testing set to find the model's accuracy in our prediction.\n",
    "- We added the <code>set.seed()</code> argument to make our result reproducible and use the <code>initial_split()</code> argument to choose the sample from our data frame randomly."
   ]
  },
  {
   "cell_type": "code",
   "execution_count": null,
   "id": "30ccdd22-3d88-4285-8e11-71044b4a750b",
   "metadata": {},
   "outputs": [],
   "source": [
    "set.seed(2106)\n",
    "#spliting data into training set and testing set    \n",
    "    \n",
    "heart_split <- initial_split(heart_data, prop = 0.75, strata = disease_present)\n",
    "heart_train <- training(heart_split)\n",
    "heart_testing <- testing(heart_split)"
   ]
  },
  {
   "cell_type": "markdown",
   "id": "a1ae9050-c27a-4956-a193-922e9d9a382a",
   "metadata": {},
   "source": [
    "- We begin our exploratory data analysis by summarizing those data into different types of tables."
   ]
  },
  {
   "cell_type": "code",
   "execution_count": null,
   "id": "6b2da93b-8001-4430-8d66-e68d0fcf69c0",
   "metadata": {},
   "outputs": [],
   "source": [
    "heart_explore_counts <- heart_train |>\n",
    "    group_by(disease_present) |>\n",
    "    summarize(count = n(),\n",
    "              percent = (n() / nrow(heart_train)) * 100)\n",
    "\n",
    "heart_explore_counts"
   ]
  },
  {
   "cell_type": "markdown",
   "id": "8169fba8-d8e2-47d3-9ef8-0891f5497a83",
   "metadata": {},
   "source": [
    "- In the table above, we can see that it reports those observations in each class in which <code>\"FALSE\"</code> represents \"no disease present\" inside a human body, and <code>\"TRUE\"</code> means there is a disease present inside a human body.\n",
    "- We use <code>group_by(disease_present)</code> to group our table with the disease present variable, and we use <code>n()</code> arguments to count the numbers of those observations in each class. \n",
    "- Comparing the two results shows that the number of people who result in the disease is more significant than those who don't."
   ]
  },
  {
   "cell_type": "markdown",
   "id": "07becc45-b5a6-4082-9701-1b8df7995cb0",
   "metadata": {},
   "source": [
    "- The data set has almost equal amount of percentages of patients with heart disease and patients with no heart disease and it is beneficial to our model as we can have equal cases to train our model effectively."
   ]
  },
  {
   "cell_type": "code",
   "execution_count": null,
   "id": "b2959a3e-f5bb-4ca5-b288-2bc43fa25702",
   "metadata": {},
   "outputs": [],
   "source": [
    "heart_explore <- heart_train |>\n",
    "    group_by(sex, disease_present) |>\n",
    "    summarize(count = n(),\n",
    "              avg_chol = mean(cholesterol),\n",
    "              avg_age = round(mean(age)))\n",
    "\n",
    "heart_explore"
   ]
  },
  {
   "cell_type": "markdown",
   "id": "e82c7cd2-c400-42fc-8855-feb46e1fc010",
   "metadata": {},
   "source": [
    "- We use <code>group_by(sex, disease_present)</code> argument to find the total number of diseases present and no disease present for males and females.\n",
    "- We can see that the data have an unequal amount of male and female as well as unequal distribution of male & female with/without heart disease. This can be seen as an unreliable method of prediction as it affect the true average cholesterol in group. Therefore, we need to preprocess the data before working with the model"
   ]
  },
  {
   "cell_type": "code",
   "execution_count": null,
   "id": "2b933a32-8135-4ba0-a3a4-79fdbc1fbb18",
   "metadata": {},
   "outputs": [],
   "source": [
    "options(repr.plot.width = 12, repr.plot.height = 8)\n",
    "\n",
    "heart_rate_plot <- heart_train |>\n",
    "    ggplot(aes(x = age, y = max_heart_rate, color = disease_present)) +\n",
    "    geom_point() +\n",
    "    labs(x = \"Age\", y = \"Max Heart Rate\", color = \"Disease Present\") +\n",
    "    facet_grid(cols = vars (disease_present)) +\n",
    "    theme(text = element_text(size = 15))\n",
    "\n",
    "heart_rate_plot"
   ]
  },
  {
   "cell_type": "markdown",
   "id": "88ac6a4f-bf62-4686-be69-73532ad463a2",
   "metadata": {},
   "source": [
    "- In here, we are trying to see whether having a higher max heart rate will increase the risk of having a heart disease. We can also assume that the younger/middle age group with high max heart rate a more prone to heart disease."
   ]
  },
  {
   "cell_type": "code",
   "execution_count": null,
   "id": "b227b568-26e5-46c0-990d-90d9f4c21fff",
   "metadata": {},
   "outputs": [],
   "source": [
    "cholesterol_plot <- heart_train |>\n",
    "    ggplot(aes(x = cholesterol, fill = disease_present)) +\n",
    "    geom_histogram() +\n",
    "    labs(x = \"Cholesterol\", y = \"Count\", fill = \"Disease Presence\") +\n",
    "    facet_grid(rows = vars (disease_present)) +\n",
    "    theme(text = element_text(size = 15))\n",
    "\n",
    "cholesterol_plot"
   ]
  },
  {
   "cell_type": "markdown",
   "id": "7dc34e06-5d32-40a4-880a-b4a9d37ddaa8",
   "metadata": {},
   "source": [
    "- We wanted to see whether having high cholesterol will build up the risk factor from having a heart disease. According to the CDC, high cholesterol especially the \"bad\" type of cholesterol build up and block the vessels and inducing heart attack. However, from the graph above, it does not seem to support the claim. Cholesterol by itself could not be an accurate predictor for the presence of heart disease."
   ]
  },
  {
   "cell_type": "code",
   "execution_count": null,
   "id": "de0e36af-3b9b-4cd9-b465-4e9d2dd93276",
   "metadata": {},
   "outputs": [],
   "source": [
    "restbp_plot <- heart_train |>\n",
    "    ggplot(aes(x = rest_bp,fill = disease_present)) +\n",
    "    geom_histogram(color = \"black\", position = \"dodge\") +\n",
    "    labs(x = \"Rest Blood Pressure\", fill = \"Disease Present\") +\n",
    "    facet_grid(rows = vars (disease_present)) +\n",
    "    theme(text = element_text(size = 15))\n",
    "\n",
    "restbp_plot\n"
   ]
  },
  {
   "cell_type": "markdown",
   "id": "6576e71f-5059-4bb9-9aa4-87b9e879c92e",
   "metadata": {},
   "source": [
    "- We want to see whether higher restingblood pressure is associated with higher chance of getting heart disease. From the graph above, the presence of heart disease is relatively high when the resting blood pressure is above 120. "
   ]
  },
  {
   "cell_type": "markdown",
   "id": "e0f3bb86-ffca-4eb6-b007-2f6b7bd117ce",
   "metadata": {},
   "source": [
    "All together, we want to try out the 4 variables age, maximum heart rate, resting blood pressure, and cholesterol as our predictor for our model. We will also do preprocessing steps to make sure that our training data is centered and scaled. Furthermore, we will also be tuning our K to avoid overfitting and underfitting."
   ]
  },
  {
   "cell_type": "markdown",
   "id": "96c64611-5165-46a2-84e7-988a8b1beaf5",
   "metadata": {},
   "source": [
    "## Predictor Variable Selection ##\n",
    "\n"
   ]
  },
  {
   "cell_type": "code",
   "execution_count": null,
   "id": "a0676533-bfac-4911-a93b-34ffe105ad88",
   "metadata": {},
   "outputs": [],
   "source": [
    "set.seed(1)\n",
    "heart_subset <- heart_train |>\n",
    "    select(\"age\", \"cholesterol\", \"rest_bp\", \"max_heart_rate\", \"disease_present\")\n",
    "\n",
    "names <- colnames(heart_subset|> select(-disease_present))\n",
    "\n",
    "accuracies <- tibble(size = integer(), \n",
    "                     model_string = character(), \n",
    "                     accuracy = numeric())\n",
    "\n",
    "# create a model specification\n",
    "knn_spec <- nearest_neighbor(weight_func = \"rectangular\", \n",
    "                             neighbors = tune()) |>\n",
    "     set_engine(\"kknn\") |>\n",
    "     set_mode(\"classification\")\n",
    "\n",
    "# create a 5-fold cross-validation object\n",
    "heart_vfold <- vfold_cv(heart_subset, v = 5, strata = disease_present)\n",
    "\n",
    "# store the total number of predictors\n",
    "n_total <- length(names)\n",
    "\n",
    "# stores selected predictors\n",
    "selected <- c()\n",
    "\n",
    "# for every size from 1 to the total number of predictors\n",
    "for (i in 1:n_total) {\n",
    "    # for every predictor still not added yet\n",
    "    accs <- list()\n",
    "    models <- list()\n",
    "    for (j in 1:length(names)) {\n",
    "        # create a model string for this combination of predictors\n",
    "        preds_new <- c(selected, names[[j]])\n",
    "        model_string <- paste(\"disease_present\", \"~\", paste(preds_new, collapse=\"+\"))\n",
    "\n",
    "        # create a recipe from the model string\n",
    "        heart_recipe <- recipe(as.formula(model_string), \n",
    "                                data = heart_subset) |>\n",
    "                          step_scale(all_predictors()) |>\n",
    "                          step_center(all_predictors())\n",
    "\n",
    "        # tune the KNN classifier with these predictors, \n",
    "        # and collect the accuracy for the best K\n",
    "        acc <- workflow() |>\n",
    "          add_recipe(heart_recipe) |>\n",
    "          add_model(knn_spec) |>\n",
    "          tune_grid(resamples = heart_vfold, grid = 10) |>\n",
    "          collect_metrics() |>\n",
    "          filter(.metric == \"accuracy\") |>\n",
    "          summarize(mx = max(mean))\n",
    "        acc <- acc$mx |> unlist()\n",
    "\n",
    "        # add this result to the dataframe\n",
    "        accs[[j]] <- acc\n",
    "        models[[j]] <- model_string\n",
    "    }\n",
    "    jstar <- which.max(unlist(accs))\n",
    "    accuracies <- accuracies |> \n",
    "      add_row(size = i, \n",
    "              model_string = models[[jstar]], \n",
    "              accuracy = accs[[jstar]])\n",
    "    selected <- c(selected, names[[jstar]])\n",
    "    names <- names[-jstar]\n",
    "}\n",
    "accuracies\n",
    "\n"
   ]
  },
  {
   "cell_type": "markdown",
   "id": "4e1764fa-0335-4832-a5b0-898670f43929",
   "metadata": {},
   "source": [
    "## Tuning"
   ]
  },
  {
   "cell_type": "code",
   "execution_count": null,
   "id": "a1bbe205-66ce-42ec-b7df-7ab6e63cc4c9",
   "metadata": {},
   "outputs": [],
   "source": [
    "heart_recipe <- recipe(disease_present ~ age + rest_bp + cholesterol + max_heart_rate, data = heart_train) |>\n",
    "    step_scale(all_predictors()) |>\n",
    "    step_center(all_predictors())\n",
    "\n",
    "knn_spec <- nearest_neighbor(weight_func = \"rectangular\", neighbors = tune()) |>\n",
    "    set_engine(\"kknn\") |>\n",
    "    set_mode(\"classification\")\n",
    "\n",
    "vfold <- vfold_cv(heart_train, v = 10, strata = disease_present)\n",
    "\n",
    "gridvals <- tibble(neighbors = seq(1, 25))\n",
    "\n",
    "results <- workflow() |>\n",
    "    add_recipe(heart_recipe) |>\n",
    "    add_model(knn_spec) |>\n",
    "    tune_grid(resamples = vfold, grid = gridvals) |>\n",
    "    collect_metrics() |>\n",
    "    filter(.metric == \"accuracy\")\n",
    "\n",
    "cross_validation_plot <- results |>\n",
    "    ggplot(aes(x = neighbors, y = mean)) +\n",
    "    geom_point() +\n",
    "    geom_line() +\n",
    "    scale_x_continuous(limits = c(1, 25), breaks = seq(1, 25), minor_breaks = seq(1, 25, 1))\n",
    "\n",
    "cross_validation_plot"
   ]
  },
  {
   "cell_type": "code",
   "execution_count": null,
   "id": "5afa2475-35a1-440f-9611-f6d8fecb7446",
   "metadata": {},
   "outputs": [],
   "source": []
  },
  {
   "cell_type": "markdown",
   "id": "99f996dc-9128-4c53-8897-19f8f5d6442e",
   "metadata": {},
   "source": [
    "## KNN Classification Testing ##"
   ]
  },
  {
   "cell_type": "code",
   "execution_count": null,
   "id": "a19c000d-437b-4295-aa3a-1b031b7a9c1a",
   "metadata": {},
   "outputs": [],
   "source": [
    "#Create the best KNN model\n",
    "knn_spec_heart <- nearest_neighbor(weight_func = \"rectangular\", neighbors = 2) |>\n",
    "                                   set_engine(\"kknn\") |>\n",
    "                                   set_mode(\"classification\")\n",
    "\n",
    "#Final recipe for centering and scaling                                    \n",
    "knn_recipe_heart <- recipe(disease_present ~ cholesterol + max_heart_rate + age + rest_bp, data = heart_train) |>\n",
    "                                   step_scale(all_predictors()) |>\n",
    "                                   step_center(all_predictors())\n",
    "\n",
    "#using workflow to combine the recipe and model\n",
    "knn_fit_heart <- workflow() |>\n",
    "    add_recipe(knn_recipe_heart) |>\n",
    "    add_model(knn_spec_heart) |>\n",
    "    fit(data = heart_train)\n",
    "                                   \n",
    "heart_test_prediction <- predict(knn_fit_heart, heart_testing) |>\n",
    "                                   bind_cols(heart_testing) \n",
    "                                \n",
    "                                \n",
    "heart_test_prediction\n",
    "\n",
    "heart_confusion_df <- heart_test_prediction |>\n",
    "    conf_mat(truth = disease_present, estimate = .pred_class)\n",
    "\n",
    "heart_confusion_df\n",
    "\n",
    "heart_accuracy <- heart_test_prediction |>\n",
    "    metrics(truth = disease_present, estimate = .pred_class) |>\n",
    "                                   select(.metric, .estimate) |>\n",
    "                                   head(1)\n",
    "heart_accuracy"
   ]
  },
  {
   "cell_type": "markdown",
   "id": "eaae2705-9ca9-41e8-98b1-0e91ada43c9d",
   "metadata": {},
   "source": [
    "## References"
   ]
  },
  {
   "cell_type": "markdown",
   "id": "c5658b1c-f8d6-401c-abf6-144d80dbd5b4",
   "metadata": {},
   "source": [
    "https://www.cdc.gov/cholesterol/myths_facts.htm\n",
    "\n",
    "Grey, H. Heart disease & age. memorial Hermann. (2021, December 27). Retrieved October 29, 2022, from https://memorialhermann.org/services/specialties/heart-and-vascular/healthy-living/education/heart-disease-and-age \\\n",
    "Perret-Guillaume C, Joly L, Benetos A. Heart rate as a risk factor for cardiovascular disease. Prog Cardiovasc Dis. 2009 Jul-Aug;52(1):6-10. doi: 10.1016/j.pcad.2009.05.003. PMID: 19615487.\n",
    "U.S. Department of Health and Human Services. (n.d.). Heart health and aging. National Institute on Aging. Retrieved October 29, 2022, from https://www.nia.nih.gov/health/heart-health-and-aging#changes \n"
   ]
  }
 ],
 "metadata": {
  "kernelspec": {
   "display_name": "R",
   "language": "R",
   "name": "ir"
  },
  "language_info": {
   "codemirror_mode": "r",
   "file_extension": ".r",
   "mimetype": "text/x-r-source",
   "name": "R",
   "pygments_lexer": "r",
   "version": "4.1.3"
  }
 },
 "nbformat": 4,
 "nbformat_minor": 5
}
