{
 "cells": [
  {
   "cell_type": "markdown",
   "id": "6e3febbe-0a16-40f0-9f6d-b57f59aea627",
   "metadata": {},
   "source": [
    "# Project Proposal # "
   ]
  },
  {
   "cell_type": "markdown",
   "id": "7cfe4243-c2a6-4952-8c6c-9df9fa2c081e",
   "metadata": {},
   "source": [
    "## Introduction ##"
   ]
  },
  {
   "cell_type": "markdown",
   "id": "62ca178b-85fb-4d17-b581-52c7f90aaca2",
   "metadata": {},
   "source": [
    "Heart diseases refers to types of heart conditions in which their common symptoms vary from having heart attacks, arrhythmia (abnormal heart beats), to heart failure. Though these symptoms may exist for some people, many cannot be diagnosed unless experienced one of the conditions. Our question we would like to address is predicting the presence of heart disease by working with four variables as the predictors. The four variables are age, maximum heart rate, resting blood pressure, and cholesterol (These predictors are subjected to change as we move towards the end of the course as we learn how to find which are the best predictors). The accuracy of our model could be helpful as being the preliminary test to see if a patient needs further diagnosis before clinicians coming up with suitable treatment models for that patient.  For our project, we chose to focus on a dataset from UCI Machine Learning that contains data pulled from Hungary, Cleveland, Switzerland, and Longbeach that we found on Kaggle. https://www.kaggle.com/datasets/johnsmith88/heart-disease-dataset. \n",
    "\n"
   ]
  },
  {
   "cell_type": "markdown",
   "id": "84360b78-db48-4f12-be3e-93ee7472b8f1",
   "metadata": {},
   "source": [
    "The dataset includes 14 columns:\n",
    "- age\n",
    "- sex\n",
    "- chest pain type (4 values; 0 = typical angina, 1 = atypical angina, 2 = non-anginal pain, 3 = asymptomatic)\n",
    "- trestbps: resting blood pressure\n",
    "- chol: serum cholestoral in mg/dl\n",
    "- fbs: fasting blood sugar > 120 mg/dl\n",
    "- restecg: resting electrocardiographic results (values 0,1,2)\n",
    "- thalach: maximum heart rate achieved\n",
    "- exang: exercise induced angina\n",
    "- oldpeak: ST depression induced by exercise relative to rest\n",
    "- slope: the slope of the peak exercise ST segment\n",
    "- ca: number of major vessels (0-3) colored by flourosopy\n",
    "- thal: 0 = normal; 1 = fixed defect; 2 = reversable defect\n",
    "- target: presence of heart disease, 0 = False, 1 = True\n"
   ]
  },
  {
   "cell_type": "code",
   "execution_count": null,
   "id": "858ee8b4-3539-4773-982e-b809d3be7457",
   "metadata": {},
   "outputs": [],
   "source": [
    "### Run this cell before continuing. \n",
    "library(tidyverse)\n",
    "library(repr)\n",
    "library(tidymodels)\n",
    "options(repr.matrix.max.rows = 6)\n",
    "source('tests.R')\n",
    "source(\"cleanup.R\")"
   ]
  },
  {
   "cell_type": "code",
   "execution_count": null,
   "id": "fbdd1531-2b6e-4fee-88a6-5906da7b236b",
   "metadata": {},
   "outputs": [],
   "source": [
    "heart_data <- read_csv(file = \"heart.csv\")\n",
    "\n",
    "heart_data"
   ]
  },
  {
   "cell_type": "code",
   "execution_count": null,
   "id": "52c4938b-a6fc-4679-a3d9-147000a3c8b9",
   "metadata": {},
   "outputs": [],
   "source": [
    "#Check to see if there is any n/a value in the dataset\n",
    "na_check <- heart_data |>\n",
    "     map_df(is.na) |>\n",
    "     map_df(sum)\n",
    "\n",
    "na_check"
   ]
  },
  {
   "cell_type": "code",
   "execution_count": null,
   "id": "cc9fbd6a-4276-4b7b-9ddc-5e93c2488184",
   "metadata": {},
   "outputs": [],
   "source": [
    "heart_data  <- heart_data |>\n",
    "    mutate(sex = as_factor(sex), target = as.logical(target)) |>\n",
    "    select(age, sex, chol, trestbps, thalach, target)\n",
    "\n",
    "colnames(heart_data) <- c(\"age\", \"sex\", \"cholesterol\", \"rest_bp\", \"max_heart_rate\", \"disease_present\")\n",
    "\n",
    "# changes 1 to male and 0 to female\n",
    "levels(heart_data$sex) <- c(\"female\", \"male\")\n",
    "# changes disease_present to true/false (0 = false, 1 = true)\n",
    "levels(heart_data$disease_present) <- c(FALSE, TRUE)\n",
    "\n",
    "heart_data"
   ]
  },
  {
   "cell_type": "code",
   "execution_count": null,
   "id": "c545777e-4395-4ecf-ab2b-5e7f56bc439e",
   "metadata": {},
   "outputs": [],
   "source": [
    "heart_split <- initial_split(heart_data, prop = 0.75, strata = disease_present)\n",
    "heart_train <- training(heart_split)\n",
    "\n",
    "heart_explore <- heart_train |>\n",
    "    group_by(sex, disease_present) |>\n",
    "    summarize(count = n(),\n",
    "              avg_chol = mean(cholesterol),\n",
    "              avg_age = round(mean(age)))\n",
    "\n",
    "heart_explore"
   ]
  },
  {
   "cell_type": "markdown",
   "id": "11f06913-9e79-4f9f-9a22-8d1948d4375c",
   "metadata": {},
   "source": [
    "- We can see that the data have an unequal amount of male and female as well as unequal distribution of male & female with/without heart disease. This can be seen as an unreliable method of prediction as it affect the true average cholesterol in group. Therefore, we need to preprocess the data before working with the model"
   ]
  },
  {
   "cell_type": "code",
   "execution_count": null,
   "id": "faabe899-813d-4fc6-a97d-80908e947b09",
   "metadata": {},
   "outputs": [],
   "source": [
    "heart_explore_counts <- heart_train |>\n",
    "    group_by(disease_present) |>\n",
    "    summarize(count = n(),\n",
    "              percent = (n() / nrow(heart_train)) * 100)\n",
    "\n",
    "heart_explore_counts"
   ]
  },
  {
   "cell_type": "markdown",
   "id": "8bf5ccb2-c503-4667-b6a8-2600779e0cbe",
   "metadata": {},
   "source": [
    "- The data set has almost equal amount of percentages of patients with heart disease and patients with no heart disease and it is beneficial to our model as we can have equal cases to train our model effectively."
   ]
  },
  {
   "cell_type": "code",
   "execution_count": null,
   "id": "6e38301c-515d-4f97-9b23-de5112cf3c8a",
   "metadata": {},
   "outputs": [],
   "source": [
    "options(repr.plot.width = 12, repr.plot.height = 8)\n",
    "\n",
    "heart_rate_plot <- heart_train |>\n",
    "    ggplot(aes(x = age, y = max_heart_rate, color = disease_present)) +\n",
    "    geom_point() +\n",
    "    labs(x = \"Age\", y = \"Max Heart Rate\", color = \"Disease Present\") +\n",
    "    facet_grid(cols = vars (disease_present)) +\n",
    "    theme(text = element_text(size = 15))\n",
    "\n",
    "heart_rate_plot"
   ]
  },
  {
   "cell_type": "markdown",
   "id": "b192c456-9994-49d7-8a0d-198b220f528b",
   "metadata": {},
   "source": [
    "- In here, we are trying to see whether having a higher max heart rate will increase the risk of having a heart disease. We can also assume that the younger/middle age group with high max heart rate a more prone to heart disease."
   ]
  },
  {
   "cell_type": "code",
   "execution_count": null,
   "id": "8655fd5f-8a9d-406c-b61b-85d8ad03ce5b",
   "metadata": {},
   "outputs": [],
   "source": [
    "cholesterol_plot <- heart_train |>\n",
    "    ggplot(aes(x = cholesterol, fill = disease_present)) +\n",
    "    geom_histogram() +\n",
    "    labs(x = \"Cholesterol\", y = \"Count\", fill = \"Disease Presence\") +\n",
    "    facet_grid(cols = vars (disease_present)) +\n",
    "    theme(text = element_text(size = 15))\n",
    "\n",
    "cholesterol_plot"
   ]
  },
  {
   "cell_type": "markdown",
   "id": "7326f658-cd8d-4e28-8ed5-3c2cd99c7603",
   "metadata": {},
   "source": [
    "- We wanted to see whether having high cholesterol will build up the risk factor from having a heart disease. According to the CDC, high cholesterol especially the \"bad\" type of cholesterol build up and block the vessels and inducing heart attack. However, from the graph above, it does not seem to support the claim. Cholesterol by itself could not be an accurate predictor for the presence of heart disease."
   ]
  },
  {
   "cell_type": "code",
   "execution_count": null,
   "id": "296451da-942f-4950-bed4-0e0eac949d05",
   "metadata": {},
   "outputs": [],
   "source": [
    "restbp_plot <- heart_train |>\n",
    "    ggplot(aes(x = rest_bp,fill = disease_present)) +\n",
    "    geom_histogram(color = \"black\", position = \"dodge\") +\n",
    "    labs(x = \"Rest Blood Pressure\", fill = \"Disease Present\") +\n",
    "    facet_grid(cols = vars (disease_present)) +\n",
    "    theme(text = element_text(size = 15))\n",
    "\n",
    "restbp_plot\n"
   ]
  },
  {
   "cell_type": "markdown",
   "id": "20ac0b80-4f72-4710-b3bb-524b100734a6",
   "metadata": {},
   "source": [
    "- We want to see whether higher restingblood pressure is associated with higher chance of getting heart disease. From the graph above, the presence of heart disease is relatively high when the resting blood pressure is above 120. "
   ]
  },
  {
   "cell_type": "markdown",
   "id": "af9d3a4a-21b7-4b27-8a69-8e5fc87e2848",
   "metadata": {},
   "source": [
    "All together, we want to try out the 4 variables age, maximum heart rate, resting blood pressure, and cholesterol as our predictor for our model. We will also do preprocessing steps to make sure that our training data is centered and scaled. Furthermore, we will also be tuning our K to avoid overfitting and underfitting."
   ]
  },
  {
   "cell_type": "markdown",
   "id": "ca6b6380-b56c-4056-bfdb-1aee8102b114",
   "metadata": {},
   "source": [
    "## References"
   ]
  },
  {
   "cell_type": "markdown",
   "id": "c4fa1573-c676-4079-b5f3-c103c2528e7b",
   "metadata": {},
   "source": [
    "https://www.cdc.gov/cholesterol/myths_facts.htm"
   ]
  }
 ],
 "metadata": {
  "kernelspec": {
   "display_name": "R",
   "language": "R",
   "name": "ir"
  },
  "language_info": {
   "codemirror_mode": "r",
   "file_extension": ".r",
   "mimetype": "text/x-r-source",
   "name": "R",
   "pygments_lexer": "r",
   "version": "4.1.3"
  }
 },
 "nbformat": 4,
 "nbformat_minor": 5
}
