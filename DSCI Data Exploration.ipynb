{
 "cells": [
  {
   "cell_type": "markdown",
   "id": "6e3febbe-0a16-40f0-9f6d-b57f59aea627",
   "metadata": {},
   "source": [
    "# Project Proposal # "
   ]
  },
  {
   "cell_type": "markdown",
   "id": "7cfe4243-c2a6-4952-8c6c-9df9fa2c081e",
   "metadata": {},
   "source": [
    "## Introduction ##"
   ]
  },
  {
   "cell_type": "markdown",
   "id": "62ca178b-85fb-4d17-b581-52c7f90aaca2",
   "metadata": {},
   "source": [
    "Heart diseases refers to types of heart conditions in which their common symptoms vary from having heart attacks, arrhythmia (abnormal heart beats), to heart failure. Though these symptoms may exist for some people, many cannot be diagnosed unless experienced one of the conditionHeart diseases refers to types of heart conditions in which their common symptoms vary from having heart attacks, arrhythmia (abnormal heart beats), to heart failure. Though these symptoms may exist for some people, many cannot be diagnosed unless experienced one of the conditions above. Our question we would like to address is predicting the presence of heart disease by working with 4 variables as the predictors. The four variables are age, maximum heart rate, resting blood pressure, and cholesterol (These predictors are subjected to change as we move towards the end of the course as we learn how to find which are the best predictors). The accuracy of our model could be helpful as being the preliminary test to see if a patient needs further diagnosis before clinicians coming up with suitable treatment models for that patient.  For our project, we chose to focus on a dataset from UCI Machine Learning that contains data pulled from Hungary, Cleveland, Switzerland, and Longbeach that we found on Kaggle. https://www.kaggle.com/datasets/johnsmith88/heart-disease-dataset. \n",
    "\n"
   ]
  },
  {
   "cell_type": "markdown",
   "id": "84360b78-db48-4f12-be3e-93ee7472b8f1",
   "metadata": {},
   "source": [
    "The dataset includes 14 columns:\n",
    "- age\n",
    "- sex\n",
    "- chest pain type (4 values; 0 = typical angina, 1 = atypical angina, 2 = non-anginal pain, 3 = asymptomatic)\n",
    "- trestbps: resting blood pressure\n",
    "- chol: serum cholestoral in mg/dl\n",
    "- fbs: fasting blood sugar > 120 mg/dl\n",
    "- restecg: resting electrocardiographic results (values 0,1,2)\n",
    "- thalach: maximum heart rate achieved\n",
    "- exang: exercise induced angina\n",
    "- oldpeak: ST depression induced by exercise relative to rest\n",
    "- slope: the slope of the peak exercise ST segment\n",
    "- ca: number of major vessels (0-3) colored by flourosopy\n",
    "- thal: 0 = normal; 1 = fixed defect; 2 = reversable defect\n",
    "- target: presence of heart disease, 0 = False, 1 = True\n"
   ]
  },
  {
   "cell_type": "code",
   "execution_count": 5,
   "id": "858ee8b4-3539-4773-982e-b809d3be7457",
   "metadata": {},
   "outputs": [
    {
     "name": "stderr",
     "output_type": "stream",
     "text": [
      "Warning message in file(filename, \"r\", encoding = encoding):\n",
      "“cannot open file 'tests.R': No such file or directory”\n"
     ]
    },
    {
     "ename": "ERROR",
     "evalue": "Error in file(filename, \"r\", encoding = encoding): cannot open the connection\n",
     "output_type": "error",
     "traceback": [
      "Error in file(filename, \"r\", encoding = encoding): cannot open the connection\nTraceback:\n",
      "1. source(\"tests.R\")",
      "2. file(filename, \"r\", encoding = encoding)"
     ]
    }
   ],
   "source": [
    "### Run this cell before continuing. \n",
    "library(tidyverse)\n",
    "library(repr)\n",
    "library(tidymodels)\n",
    "options(repr.matrix.max.rows = 6)\n",
    "source('tests.R')\n",
    "source(\"cleanup.R\")"
   ]
  },
  {
   "cell_type": "code",
   "execution_count": 6,
   "id": "fbdd1531-2b6e-4fee-88a6-5906da7b236b",
   "metadata": {},
   "outputs": [
    {
     "name": "stderr",
     "output_type": "stream",
     "text": [
      "\u001b[1mRows: \u001b[22m\u001b[34m1025\u001b[39m \u001b[1mColumns: \u001b[22m\u001b[34m14\u001b[39m\n",
      "\u001b[36m──\u001b[39m \u001b[1mColumn specification\u001b[22m \u001b[36m────────────────────────────────────────────────────────\u001b[39m\n",
      "\u001b[1mDelimiter:\u001b[22m \",\"\n",
      "\u001b[32mdbl\u001b[39m (14): age, sex, cp, trestbps, chol, fbs, restecg, thalach, exang, oldpea...\n",
      "\n",
      "\u001b[36mℹ\u001b[39m Use `spec()` to retrieve the full column specification for this data.\n",
      "\u001b[36mℹ\u001b[39m Specify the column types or set `show_col_types = FALSE` to quiet this message.\n"
     ]
    },
    {
     "data": {
      "text/html": [
       "<table class=\"dataframe\">\n",
       "<caption>A spec_tbl_df: 1025 × 14</caption>\n",
       "<thead>\n",
       "\t<tr><th scope=col>age</th><th scope=col>sex</th><th scope=col>cp</th><th scope=col>trestbps</th><th scope=col>chol</th><th scope=col>fbs</th><th scope=col>restecg</th><th scope=col>thalach</th><th scope=col>exang</th><th scope=col>oldpeak</th><th scope=col>slope</th><th scope=col>ca</th><th scope=col>thal</th><th scope=col>target</th></tr>\n",
       "\t<tr><th scope=col>&lt;dbl&gt;</th><th scope=col>&lt;dbl&gt;</th><th scope=col>&lt;dbl&gt;</th><th scope=col>&lt;dbl&gt;</th><th scope=col>&lt;dbl&gt;</th><th scope=col>&lt;dbl&gt;</th><th scope=col>&lt;dbl&gt;</th><th scope=col>&lt;dbl&gt;</th><th scope=col>&lt;dbl&gt;</th><th scope=col>&lt;dbl&gt;</th><th scope=col>&lt;dbl&gt;</th><th scope=col>&lt;dbl&gt;</th><th scope=col>&lt;dbl&gt;</th><th scope=col>&lt;dbl&gt;</th></tr>\n",
       "</thead>\n",
       "<tbody>\n",
       "\t<tr><td>52</td><td>1</td><td>0</td><td>125</td><td>212</td><td>0</td><td>1</td><td>168</td><td>0</td><td>1.0</td><td>2</td><td>2</td><td>3</td><td>0</td></tr>\n",
       "\t<tr><td>53</td><td>1</td><td>0</td><td>140</td><td>203</td><td>1</td><td>0</td><td>155</td><td>1</td><td>3.1</td><td>0</td><td>0</td><td>3</td><td>0</td></tr>\n",
       "\t<tr><td>70</td><td>1</td><td>0</td><td>145</td><td>174</td><td>0</td><td>1</td><td>125</td><td>1</td><td>2.6</td><td>0</td><td>0</td><td>3</td><td>0</td></tr>\n",
       "\t<tr><td>⋮</td><td>⋮</td><td>⋮</td><td>⋮</td><td>⋮</td><td>⋮</td><td>⋮</td><td>⋮</td><td>⋮</td><td>⋮</td><td>⋮</td><td>⋮</td><td>⋮</td><td>⋮</td></tr>\n",
       "\t<tr><td>47</td><td>1</td><td>0</td><td>110</td><td>275</td><td>0</td><td>0</td><td>118</td><td>1</td><td>1.0</td><td>1</td><td>1</td><td>2</td><td>0</td></tr>\n",
       "\t<tr><td>50</td><td>0</td><td>0</td><td>110</td><td>254</td><td>0</td><td>0</td><td>159</td><td>0</td><td>0.0</td><td>2</td><td>0</td><td>2</td><td>1</td></tr>\n",
       "\t<tr><td>54</td><td>1</td><td>0</td><td>120</td><td>188</td><td>0</td><td>1</td><td>113</td><td>0</td><td>1.4</td><td>1</td><td>1</td><td>3</td><td>0</td></tr>\n",
       "</tbody>\n",
       "</table>\n"
      ],
      "text/latex": [
       "A spec\\_tbl\\_df: 1025 × 14\n",
       "\\begin{tabular}{llllllllllllll}\n",
       " age & sex & cp & trestbps & chol & fbs & restecg & thalach & exang & oldpeak & slope & ca & thal & target\\\\\n",
       " <dbl> & <dbl> & <dbl> & <dbl> & <dbl> & <dbl> & <dbl> & <dbl> & <dbl> & <dbl> & <dbl> & <dbl> & <dbl> & <dbl>\\\\\n",
       "\\hline\n",
       "\t 52 & 1 & 0 & 125 & 212 & 0 & 1 & 168 & 0 & 1.0 & 2 & 2 & 3 & 0\\\\\n",
       "\t 53 & 1 & 0 & 140 & 203 & 1 & 0 & 155 & 1 & 3.1 & 0 & 0 & 3 & 0\\\\\n",
       "\t 70 & 1 & 0 & 145 & 174 & 0 & 1 & 125 & 1 & 2.6 & 0 & 0 & 3 & 0\\\\\n",
       "\t ⋮ & ⋮ & ⋮ & ⋮ & ⋮ & ⋮ & ⋮ & ⋮ & ⋮ & ⋮ & ⋮ & ⋮ & ⋮ & ⋮\\\\\n",
       "\t 47 & 1 & 0 & 110 & 275 & 0 & 0 & 118 & 1 & 1.0 & 1 & 1 & 2 & 0\\\\\n",
       "\t 50 & 0 & 0 & 110 & 254 & 0 & 0 & 159 & 0 & 0.0 & 2 & 0 & 2 & 1\\\\\n",
       "\t 54 & 1 & 0 & 120 & 188 & 0 & 1 & 113 & 0 & 1.4 & 1 & 1 & 3 & 0\\\\\n",
       "\\end{tabular}\n"
      ],
      "text/markdown": [
       "\n",
       "A spec_tbl_df: 1025 × 14\n",
       "\n",
       "| age &lt;dbl&gt; | sex &lt;dbl&gt; | cp &lt;dbl&gt; | trestbps &lt;dbl&gt; | chol &lt;dbl&gt; | fbs &lt;dbl&gt; | restecg &lt;dbl&gt; | thalach &lt;dbl&gt; | exang &lt;dbl&gt; | oldpeak &lt;dbl&gt; | slope &lt;dbl&gt; | ca &lt;dbl&gt; | thal &lt;dbl&gt; | target &lt;dbl&gt; |\n",
       "|---|---|---|---|---|---|---|---|---|---|---|---|---|---|\n",
       "| 52 | 1 | 0 | 125 | 212 | 0 | 1 | 168 | 0 | 1.0 | 2 | 2 | 3 | 0 |\n",
       "| 53 | 1 | 0 | 140 | 203 | 1 | 0 | 155 | 1 | 3.1 | 0 | 0 | 3 | 0 |\n",
       "| 70 | 1 | 0 | 145 | 174 | 0 | 1 | 125 | 1 | 2.6 | 0 | 0 | 3 | 0 |\n",
       "| ⋮ | ⋮ | ⋮ | ⋮ | ⋮ | ⋮ | ⋮ | ⋮ | ⋮ | ⋮ | ⋮ | ⋮ | ⋮ | ⋮ |\n",
       "| 47 | 1 | 0 | 110 | 275 | 0 | 0 | 118 | 1 | 1.0 | 1 | 1 | 2 | 0 |\n",
       "| 50 | 0 | 0 | 110 | 254 | 0 | 0 | 159 | 0 | 0.0 | 2 | 0 | 2 | 1 |\n",
       "| 54 | 1 | 0 | 120 | 188 | 0 | 1 | 113 | 0 | 1.4 | 1 | 1 | 3 | 0 |\n",
       "\n"
      ],
      "text/plain": [
       "     age sex cp trestbps chol fbs restecg thalach exang oldpeak slope ca thal\n",
       "1    52  1   0  125      212  0   1       168     0     1.0     2     2  3   \n",
       "2    53  1   0  140      203  1   0       155     1     3.1     0     0  3   \n",
       "3    70  1   0  145      174  0   1       125     1     2.6     0     0  3   \n",
       "⋮    ⋮   ⋮   ⋮  ⋮        ⋮    ⋮   ⋮       ⋮       ⋮     ⋮       ⋮     ⋮  ⋮   \n",
       "1023 47  1   0  110      275  0   0       118     1     1.0     1     1  2   \n",
       "1024 50  0   0  110      254  0   0       159     0     0.0     2     0  2   \n",
       "1025 54  1   0  120      188  0   1       113     0     1.4     1     1  3   \n",
       "     target\n",
       "1    0     \n",
       "2    0     \n",
       "3    0     \n",
       "⋮    ⋮     \n",
       "1023 0     \n",
       "1024 1     \n",
       "1025 0     "
      ]
     },
     "metadata": {},
     "output_type": "display_data"
    }
   ],
   "source": [
    "heart_data <- read_csv(file = \"heart.csv\")\n",
    "\n",
    "heart_data"
   ]
  },
  {
   "cell_type": "code",
   "execution_count": 7,
   "id": "52c4938b-a6fc-4679-a3d9-147000a3c8b9",
   "metadata": {},
   "outputs": [],
   "source": [
    "# na_check <- heart_data |>\n",
    "#     map_df(is.na) |>\n",
    "#     map_df"
   ]
  },
  {
   "cell_type": "code",
   "execution_count": 8,
   "id": "cc9fbd6a-4276-4b7b-9ddc-5e93c2488184",
   "metadata": {},
   "outputs": [
    {
     "data": {
      "text/html": [
       "<table class=\"dataframe\">\n",
       "<caption>A tibble: 1025 × 6</caption>\n",
       "<thead>\n",
       "\t<tr><th scope=col>age</th><th scope=col>sex</th><th scope=col>cholesterol</th><th scope=col>fasting_blood_sugar_greater_than_120</th><th scope=col>max_heart_rate</th><th scope=col>disease_present</th></tr>\n",
       "\t<tr><th scope=col>&lt;dbl&gt;</th><th scope=col>&lt;fct&gt;</th><th scope=col>&lt;dbl&gt;</th><th scope=col>&lt;fct&gt;</th><th scope=col>&lt;dbl&gt;</th><th scope=col>&lt;fct&gt;</th></tr>\n",
       "</thead>\n",
       "<tbody>\n",
       "\t<tr><td>52</td><td>male</td><td>212</td><td>FALSE</td><td>168</td><td>FALSE</td></tr>\n",
       "\t<tr><td>53</td><td>male</td><td>203</td><td>TRUE </td><td>155</td><td>FALSE</td></tr>\n",
       "\t<tr><td>70</td><td>male</td><td>174</td><td>FALSE</td><td>125</td><td>FALSE</td></tr>\n",
       "\t<tr><td>⋮</td><td>⋮</td><td>⋮</td><td>⋮</td><td>⋮</td><td>⋮</td></tr>\n",
       "\t<tr><td>47</td><td>male  </td><td>275</td><td>FALSE</td><td>118</td><td>FALSE</td></tr>\n",
       "\t<tr><td>50</td><td>female</td><td>254</td><td>FALSE</td><td>159</td><td>TRUE </td></tr>\n",
       "\t<tr><td>54</td><td>male  </td><td>188</td><td>FALSE</td><td>113</td><td>FALSE</td></tr>\n",
       "</tbody>\n",
       "</table>\n"
      ],
      "text/latex": [
       "A tibble: 1025 × 6\n",
       "\\begin{tabular}{llllll}\n",
       " age & sex & cholesterol & fasting\\_blood\\_sugar\\_greater\\_than\\_120 & max\\_heart\\_rate & disease\\_present\\\\\n",
       " <dbl> & <fct> & <dbl> & <fct> & <dbl> & <fct>\\\\\n",
       "\\hline\n",
       "\t 52 & male & 212 & FALSE & 168 & FALSE\\\\\n",
       "\t 53 & male & 203 & TRUE  & 155 & FALSE\\\\\n",
       "\t 70 & male & 174 & FALSE & 125 & FALSE\\\\\n",
       "\t ⋮ & ⋮ & ⋮ & ⋮ & ⋮ & ⋮\\\\\n",
       "\t 47 & male   & 275 & FALSE & 118 & FALSE\\\\\n",
       "\t 50 & female & 254 & FALSE & 159 & TRUE \\\\\n",
       "\t 54 & male   & 188 & FALSE & 113 & FALSE\\\\\n",
       "\\end{tabular}\n"
      ],
      "text/markdown": [
       "\n",
       "A tibble: 1025 × 6\n",
       "\n",
       "| age &lt;dbl&gt; | sex &lt;fct&gt; | cholesterol &lt;dbl&gt; | fasting_blood_sugar_greater_than_120 &lt;fct&gt; | max_heart_rate &lt;dbl&gt; | disease_present &lt;fct&gt; |\n",
       "|---|---|---|---|---|---|\n",
       "| 52 | male | 212 | FALSE | 168 | FALSE |\n",
       "| 53 | male | 203 | TRUE  | 155 | FALSE |\n",
       "| 70 | male | 174 | FALSE | 125 | FALSE |\n",
       "| ⋮ | ⋮ | ⋮ | ⋮ | ⋮ | ⋮ |\n",
       "| 47 | male   | 275 | FALSE | 118 | FALSE |\n",
       "| 50 | female | 254 | FALSE | 159 | TRUE  |\n",
       "| 54 | male   | 188 | FALSE | 113 | FALSE |\n",
       "\n"
      ],
      "text/plain": [
       "     age sex    cholesterol fasting_blood_sugar_greater_than_120 max_heart_rate\n",
       "1    52  male   212         FALSE                                168           \n",
       "2    53  male   203         TRUE                                 155           \n",
       "3    70  male   174         FALSE                                125           \n",
       "⋮    ⋮   ⋮      ⋮           ⋮                                    ⋮             \n",
       "1023 47  male   275         FALSE                                118           \n",
       "1024 50  female 254         FALSE                                159           \n",
       "1025 54  male   188         FALSE                                113           \n",
       "     disease_present\n",
       "1    FALSE          \n",
       "2    FALSE          \n",
       "3    FALSE          \n",
       "⋮    ⋮              \n",
       "1023 FALSE          \n",
       "1024 TRUE           \n",
       "1025 FALSE          "
      ]
     },
     "metadata": {},
     "output_type": "display_data"
    }
   ],
   "source": [
    "heart_data  <- heart_data |>\n",
    "    mutate(sex = as_factor(sex), target = as_factor(target), fbs = as_factor(fbs)) |>\n",
    "    select(age, sex, chol, fbs, thalach, target)\n",
    "\n",
    "colnames(heart_data) <- c(\"age\", \"sex\", \"cholesterol\", \"fasting_blood_sugar_greater_than_120\", \"max_heart_rate\", \"disease_present\")\n",
    "\n",
    "# changes 1 to male and 0 to female\n",
    "levels(heart_data$sex) <- c(\"female\", \"male\")\n",
    "# changes disease_present to true/false (0 = false, 1 = true)\n",
    "levels(heart_data$disease_present) <- c(FALSE, TRUE)\n",
    "#changes fbs>120 to true/false (1 = true, 0, false)\n",
    "levels(heart_data$fasting_blood_sugar_greater_than_120) <- c(FALSE, TRUE)\n",
    "\n",
    "heart_data"
   ]
  },
  {
   "cell_type": "code",
   "execution_count": 11,
   "id": "c545777e-4395-4ecf-ab2b-5e7f56bc439e",
   "metadata": {},
   "outputs": [
    {
     "name": "stderr",
     "output_type": "stream",
     "text": [
      "\u001b[1m\u001b[22m`summarise()` has grouped output by 'sex'. You can override using the `.groups`\n",
      "argument.\n"
     ]
    },
    {
     "data": {
      "text/html": [
       "<table class=\"dataframe\">\n",
       "<caption>A grouped_df: 4 × 5</caption>\n",
       "<thead>\n",
       "\t<tr><th scope=col>sex</th><th scope=col>disease_present</th><th scope=col>count</th><th scope=col>avg_chol</th><th scope=col>avg_age</th></tr>\n",
       "\t<tr><th scope=col>&lt;fct&gt;</th><th scope=col>&lt;fct&gt;</th><th scope=col>&lt;int&gt;</th><th scope=col>&lt;dbl&gt;</th><th scope=col>&lt;dbl&gt;</th></tr>\n",
       "</thead>\n",
       "<tbody>\n",
       "\t<tr><td>female</td><td>FALSE</td><td> 63</td><td>277.0000</td><td>59</td></tr>\n",
       "\t<tr><td>female</td><td>TRUE </td><td>171</td><td>255.5848</td><td>55</td></tr>\n",
       "\t<tr><td>male  </td><td>FALSE</td><td>311</td><td>247.3762</td><td>56</td></tr>\n",
       "\t<tr><td>male  </td><td>TRUE </td><td>223</td><td>229.7085</td><td>51</td></tr>\n",
       "</tbody>\n",
       "</table>\n"
      ],
      "text/latex": [
       "A grouped\\_df: 4 × 5\n",
       "\\begin{tabular}{lllll}\n",
       " sex & disease\\_present & count & avg\\_chol & avg\\_age\\\\\n",
       " <fct> & <fct> & <int> & <dbl> & <dbl>\\\\\n",
       "\\hline\n",
       "\t female & FALSE &  63 & 277.0000 & 59\\\\\n",
       "\t female & TRUE  & 171 & 255.5848 & 55\\\\\n",
       "\t male   & FALSE & 311 & 247.3762 & 56\\\\\n",
       "\t male   & TRUE  & 223 & 229.7085 & 51\\\\\n",
       "\\end{tabular}\n"
      ],
      "text/markdown": [
       "\n",
       "A grouped_df: 4 × 5\n",
       "\n",
       "| sex &lt;fct&gt; | disease_present &lt;fct&gt; | count &lt;int&gt; | avg_chol &lt;dbl&gt; | avg_age &lt;dbl&gt; |\n",
       "|---|---|---|---|---|\n",
       "| female | FALSE |  63 | 277.0000 | 59 |\n",
       "| female | TRUE  | 171 | 255.5848 | 55 |\n",
       "| male   | FALSE | 311 | 247.3762 | 56 |\n",
       "| male   | TRUE  | 223 | 229.7085 | 51 |\n",
       "\n"
      ],
      "text/plain": [
       "  sex    disease_present count avg_chol avg_age\n",
       "1 female FALSE            63   277.0000 59     \n",
       "2 female TRUE            171   255.5848 55     \n",
       "3 male   FALSE           311   247.3762 56     \n",
       "4 male   TRUE            223   229.7085 51     "
      ]
     },
     "metadata": {},
     "output_type": "display_data"
    }
   ],
   "source": [
    "heart_split <- initial_split(heart_data, prop = 0.75, strata = disease_present)\n",
    "heart_train <- training(heart_split)\n",
    "\n",
    "heart_explore <- heart_train |>\n",
    "    group_by(sex, disease_present) |>\n",
    "    summarize(count = n(),\n",
    "              avg_chol = mean(cholesterol),\n",
    "              avg_age = round(mean(age)))\n",
    "\n",
    "heart_explore"
   ]
  },
  {
   "cell_type": "code",
   "execution_count": 12,
   "id": "faabe899-813d-4fc6-a97d-80908e947b09",
   "metadata": {},
   "outputs": [
    {
     "data": {
      "text/html": [
       "<table class=\"dataframe\">\n",
       "<caption>A tibble: 2 × 3</caption>\n",
       "<thead>\n",
       "\t<tr><th scope=col>disease_present</th><th scope=col>count</th><th scope=col>percent</th></tr>\n",
       "\t<tr><th scope=col>&lt;fct&gt;</th><th scope=col>&lt;int&gt;</th><th scope=col>&lt;dbl&gt;</th></tr>\n",
       "</thead>\n",
       "<tbody>\n",
       "\t<tr><td>FALSE</td><td>374</td><td>48.69792</td></tr>\n",
       "\t<tr><td>TRUE </td><td>394</td><td>51.30208</td></tr>\n",
       "</tbody>\n",
       "</table>\n"
      ],
      "text/latex": [
       "A tibble: 2 × 3\n",
       "\\begin{tabular}{lll}\n",
       " disease\\_present & count & percent\\\\\n",
       " <fct> & <int> & <dbl>\\\\\n",
       "\\hline\n",
       "\t FALSE & 374 & 48.69792\\\\\n",
       "\t TRUE  & 394 & 51.30208\\\\\n",
       "\\end{tabular}\n"
      ],
      "text/markdown": [
       "\n",
       "A tibble: 2 × 3\n",
       "\n",
       "| disease_present &lt;fct&gt; | count &lt;int&gt; | percent &lt;dbl&gt; |\n",
       "|---|---|---|\n",
       "| FALSE | 374 | 48.69792 |\n",
       "| TRUE  | 394 | 51.30208 |\n",
       "\n"
      ],
      "text/plain": [
       "  disease_present count percent \n",
       "1 FALSE           374   48.69792\n",
       "2 TRUE            394   51.30208"
      ]
     },
     "metadata": {},
     "output_type": "display_data"
    }
   ],
   "source": [
    "heart_explore_counts <- heart_train |>\n",
    "    group_by(disease_present) |>\n",
    "    summarize(count = n(),\n",
    "              percent = (n() / nrow(heart_train)) * 100)\n",
    "\n",
    "heart_explore_counts"
   ]
  },
  {
   "cell_type": "code",
   "execution_count": null,
   "id": "6e38301c-515d-4f97-9b23-de5112cf3c8a",
   "metadata": {},
   "outputs": [],
   "source": []
  }
 ],
 "metadata": {
  "kernelspec": {
   "display_name": "R",
   "language": "R",
   "name": "ir"
  },
  "language_info": {
   "codemirror_mode": "r",
   "file_extension": ".r",
   "mimetype": "text/x-r-source",
   "name": "R",
   "pygments_lexer": "r",
   "version": "4.1.3"
  }
 },
 "nbformat": 4,
 "nbformat_minor": 5
}
